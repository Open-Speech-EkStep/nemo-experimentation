{
 "cells": [
  {
   "cell_type": "markdown",
   "id": "0d9080cc",
   "metadata": {},
   "source": [
    "## Analyze manifest"
   ]
  },
  {
   "cell_type": "code",
   "execution_count": 1,
   "id": "7ae43054",
   "metadata": {},
   "outputs": [],
   "source": [
    "import pandas as pd\n",
    "import json\n",
    "from tqdm import tqdm\n",
    "from collections import Counter"
   ]
  },
  {
   "cell_type": "code",
   "execution_count": 2,
   "id": "195bfed9",
   "metadata": {},
   "outputs": [],
   "source": [
    "manifest_file = '/home/harveen/nemo_training/data/train_combined.json'"
   ]
  },
  {
   "cell_type": "code",
   "execution_count": 3,
   "id": "c5508d46",
   "metadata": {},
   "outputs": [],
   "source": [
    "arr = []\n",
    "with open(manifest_file) as file:\n",
    "    lines = file.readlines()\n",
    "    for line in lines:\n",
    "        arr.append(json.loads(line)['text'])"
   ]
  },
  {
   "cell_type": "code",
   "execution_count": 4,
   "id": "c6df5165",
   "metadata": {},
   "outputs": [],
   "source": [
    "res = Counter(\"\\n\".join(arr))"
   ]
  },
  {
   "cell_type": "code",
   "execution_count": 5,
   "id": "b506eeaf",
   "metadata": {},
   "outputs": [
    {
     "data": {
      "text/plain": [
       "Counter({'म': 4283050,\n",
       "         'ै': 2661850,\n",
       "         'न': 5093914,\n",
       "         'े': 7891985,\n",
       "         'ज': 2394407,\n",
       "         'र': 7789037,\n",
       "         ' ': 30547923,\n",
       "         'क': 8621165,\n",
       "         'स': 5368763,\n",
       "         'ा': 10666535,\n",
       "         'थ': 788878,\n",
       "         'ी': 4854471,\n",
       "         'ि': 4391512,\n",
       "         'य': 2744891,\n",
       "         'इ': 899072,\n",
       "         'उ': 823757,\n",
       "         'औ': 566060,\n",
       "         '\\n': 3108063,\n",
       "         'त': 4630387,\n",
       "         'ो': 4009846,\n",
       "         'च': 1135487,\n",
       "         'ल': 2940170,\n",
       "         'आ': 1121936,\n",
       "         'ब': 2252579,\n",
       "         'ह': 6221473,\n",
       "         'ं': 4806307,\n",
       "         '्': 5480868,\n",
       "         'ट': 1316451,\n",
       "         'प': 3136511,\n",
       "         'ड': 878368,\n",
       "         '़': 522939,\n",
       "         'फ': 515910,\n",
       "         'ॉ': 257834,\n",
       "         'श': 1074268,\n",
       "         'ग': 1892601,\n",
       "         'ई': 401245,\n",
       "         'द': 2115471,\n",
       "         'व': 2367444,\n",
       "         'ख': 648469,\n",
       "         'ऊ': 47941,\n",
       "         'ए': 1173823,\n",
       "         'ढ': 107906,\n",
       "         'अ': 1044294,\n",
       "         'ु': 1685667,\n",
       "         'छ': 334318,\n",
       "         'भ': 1167932,\n",
       "         'ँ': 172447,\n",
       "         'ऐ': 133159,\n",
       "         'ू': 930213,\n",
       "         'झ': 153867,\n",
       "         'ौ': 159535,\n",
       "         'ृ': 172753,\n",
       "         'ओ': 132507,\n",
       "         'ऑ': 62161,\n",
       "         'ध': 546625,\n",
       "         'ॅ': 5398,\n",
       "         'घ': 96636,\n",
       "         'ष': 473924,\n",
       "         'ठ': 162520,\n",
       "         'ण': 369947,\n",
       "         'ञ': 52820,\n",
       "         'ऋ': 5203,\n",
       "         'ः': 7943,\n",
       "         'ङ': 53})"
      ]
     },
     "execution_count": 5,
     "metadata": {},
     "output_type": "execute_result"
    }
   ],
   "source": [
    "res"
   ]
  },
  {
   "cell_type": "markdown",
   "id": "90b5052d",
   "metadata": {},
   "source": [
    "## Analyze tokenizer"
   ]
  },
  {
   "cell_type": "code",
   "execution_count": null,
   "id": "dc0f2ce8",
   "metadata": {},
   "outputs": [],
   "source": []
  }
 ],
 "metadata": {
  "kernelspec": {
   "display_name": "Python 3 (ipykernel)",
   "language": "python",
   "name": "python3"
  },
  "language_info": {
   "codemirror_mode": {
    "name": "ipython",
    "version": 3
   },
   "file_extension": ".py",
   "mimetype": "text/x-python",
   "name": "python",
   "nbconvert_exporter": "python",
   "pygments_lexer": "ipython3",
   "version": "3.8.13"
  }
 },
 "nbformat": 4,
 "nbformat_minor": 5
}
