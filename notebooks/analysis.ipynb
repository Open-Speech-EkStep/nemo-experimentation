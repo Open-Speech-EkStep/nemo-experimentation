{
 "cells": [
  {
   "cell_type": "markdown",
   "id": "0d9080cc",
   "metadata": {},
   "source": [
    "## Analyze manifest"
   ]
  },
  {
   "cell_type": "code",
   "execution_count": 1,
   "id": "7ae43054",
   "metadata": {},
   "outputs": [],
   "source": [
    "import pandas as pd\n",
    "import json\n",
    "from tqdm import tqdm\n",
    "from collections import Counter"
   ]
  },
  {
   "cell_type": "code",
   "execution_count": 2,
   "id": "195bfed9",
   "metadata": {},
   "outputs": [],
   "source": [
    "manifest_file = '/home/harveen/nemo_training/data/train_combined.json'"
   ]
  },
  {
   "cell_type": "code",
   "execution_count": 3,
   "id": "c5508d46",
   "metadata": {},
   "outputs": [],
   "source": [
    "arr = []\n",
    "with open(manifest_file) as file:\n",
    "    lines = file.readlines()\n",
    "    for line in lines:\n",
    "        arr.append(json.loads(line)['text'])"
   ]
  },
  {
   "cell_type": "code",
   "execution_count": 4,
   "id": "c6df5165",
   "metadata": {},
   "outputs": [],
   "source": [
    "res = Counter(\"\\n\".join(arr))"
   ]
  },
  {
   "cell_type": "code",
   "execution_count": 7,
   "id": "b506eeaf",
   "metadata": {},
   "outputs": [
    {
     "data": {
      "text/plain": [
       "['म',\n",
       " 'ै',\n",
       " 'न',\n",
       " 'े',\n",
       " 'ज',\n",
       " 'र',\n",
       " ' ',\n",
       " 'क',\n",
       " 'स',\n",
       " 'ा',\n",
       " 'थ',\n",
       " 'ी',\n",
       " 'ि',\n",
       " 'य',\n",
       " 'इ',\n",
       " 'उ',\n",
       " 'औ',\n",
       " '\\n',\n",
       " 'त',\n",
       " 'ो',\n",
       " 'च',\n",
       " 'ल',\n",
       " 'आ',\n",
       " 'ब',\n",
       " 'ह',\n",
       " 'ं',\n",
       " '्',\n",
       " 'ट',\n",
       " 'प',\n",
       " 'ड',\n",
       " '़',\n",
       " 'फ',\n",
       " 'ॉ',\n",
       " 'श',\n",
       " 'ग',\n",
       " 'ई',\n",
       " 'द',\n",
       " 'व',\n",
       " 'ख',\n",
       " 'ऊ',\n",
       " 'ए',\n",
       " 'ढ',\n",
       " 'अ',\n",
       " 'ु',\n",
       " 'छ',\n",
       " 'भ',\n",
       " 'ँ',\n",
       " 'ऐ',\n",
       " 'ू',\n",
       " 'झ',\n",
       " 'ौ',\n",
       " 'ृ',\n",
       " 'ओ',\n",
       " 'ऑ',\n",
       " 'ध',\n",
       " 'ॅ',\n",
       " 'घ',\n",
       " 'ष',\n",
       " 'ठ',\n",
       " 'ण',\n",
       " 'ञ',\n",
       " 'ऋ',\n",
       " 'ः',\n",
       " 'ङ']"
      ]
     },
     "execution_count": 7,
     "metadata": {},
     "output_type": "execute_result"
    }
   ],
   "source": [
    "list(res.keys())"
   ]
  },
  {
   "cell_type": "markdown",
   "id": "90b5052d",
   "metadata": {},
   "source": [
    "## Analyze tokenizer"
   ]
  },
  {
   "cell_type": "code",
   "execution_count": null,
   "id": "dc0f2ce8",
   "metadata": {},
   "outputs": [],
   "source": []
  }
 ],
 "metadata": {
  "kernelspec": {
   "display_name": "Python 3 (ipykernel)",
   "language": "python",
   "name": "python3"
  },
  "language_info": {
   "codemirror_mode": {
    "name": "ipython",
    "version": 3
   },
   "file_extension": ".py",
   "mimetype": "text/x-python",
   "name": "python",
   "nbconvert_exporter": "python",
   "pygments_lexer": "ipython3",
   "version": "3.8.13"
  }
 },
 "nbformat": 4,
 "nbformat_minor": 5
}
