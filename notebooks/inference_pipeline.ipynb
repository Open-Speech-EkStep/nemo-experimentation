{
 "cells": [
  {
   "cell_type": "code",
   "execution_count": 22,
   "id": "ca963d5b",
   "metadata": {},
   "outputs": [],
   "source": [
    "import nemo.collections.asr as nemo_asr\n",
    "import os\n",
    "import numpy as np"
   ]
  },
  {
   "cell_type": "code",
   "execution_count": 53,
   "id": "b8bdca90",
   "metadata": {},
   "outputs": [],
   "source": [
    "TOKEN_OFFSET = 100"
   ]
  },
  {
   "cell_type": "code",
   "execution_count": 54,
   "id": "2210cda6",
   "metadata": {},
   "outputs": [],
   "source": [
    "def load_model(model_path):\n",
    "    asr_model = nemo_asr.models.EncDecCTCModelBPE.restore_from(\n",
    "      '/home/harveen/nemo_training/scripts/nemo_experiments/Conformer-CTC-BPE/2022-04-27_10-56-05/checkpoints/Conformer-CTC-BPE.nemo')\n",
    "    return asr_model\n"
   ]
  },
  {
   "cell_type": "code",
   "execution_count": 55,
   "id": "f880e607",
   "metadata": {},
   "outputs": [],
   "source": [
    "def load_language_model(lm_path, asr_model, alpha=1.0, beta=1.0, beam_width=128):\n",
    "    local_vocab = asr_model.decoder.vocabulary\n",
    "    local_vocab = [chr(idx + TOKEN_OFFSET) for idx in range(len(local_vocab))]\n",
    "    \n",
    "    beam_search_lm = nemo_asr.modules.BeamSearchDecoderWithLM(\n",
    "        vocab=local_vocab,\n",
    "        beam_width=beam_width,\n",
    "        alpha=alpha,\n",
    "        beta=beta,\n",
    "        lm_path=lm_path,\n",
    "        num_cpus=max(os.cpu_count(), 1),\n",
    "        input_tensor=False,\n",
    "    )\n",
    "    \n",
    "    return beam_search_lm\n",
    "\n",
    "\n",
    "def softmax(x):\n",
    "    e = np.exp(x - np.max(x))\n",
    "    return e / e.sum(axis=-1).reshape([x.shape[0], 1])\n",
    "\n",
    "\n"
   ]
  },
  {
   "cell_type": "code",
   "execution_count": 74,
   "id": "435c8e00",
   "metadata": {},
   "outputs": [],
   "source": [
    "def transcribe(wav_file, logprobs=False):\n",
    "    if type(wav_file) != list:\n",
    "        wav_file = [wav_file]\n",
    "    \n",
    "\n",
    "    return asr_model.transcribe(wav_file, logprobs=logprobs)"
   ]
  },
  {
   "cell_type": "code",
   "execution_count": 86,
   "id": "f3fbe0c7",
   "metadata": {},
   "outputs": [],
   "source": [
    "def transcribe_with_lm(wav_file):\n",
    "    logits = transcribe(wav_file, True)\n",
    "    \n",
    "    probs = [softmax(logits) for logits in logits]\n",
    "    \n",
    "    ids_to_text_func = asr_model.tokenizer.ids_to_text\n",
    "    \n",
    "    preds = []\n",
    "    for prob in probs:\n",
    "        beams_batch = beam_search_lm.forward(log_probs=prob.reshape(1, prob.shape[0], prob.shape[1]), \n",
    "                                         log_probs_length=None)\n",
    "        for beams_idx, beams in enumerate(beams_batch):\n",
    "            for candidate_idx, candidate in enumerate(beams):\n",
    "                if ids_to_text_func is not None:\n",
    "                    # For BPE encodings, need to shift by TOKEN_OFFSET to retrieve the original sub-word ids\n",
    "                    pred_text = ids_to_text_func([ord(c) - TOKEN_OFFSET for c in candidate[1]])\n",
    "                else:\n",
    "                    pred_text = candidate[1]\n",
    "        preds.append(pred_text)\n",
    "                \n",
    "    return preds"
   ]
  },
  {
   "cell_type": "code",
   "execution_count": 87,
   "id": "a8aa781c",
   "metadata": {},
   "outputs": [
    {
     "data": {
      "application/vnd.jupyter.widget-view+json": {
       "model_id": "a78d09aad57140d4ab346798742f6449",
       "version_major": 2,
       "version_minor": 0
      },
      "text/plain": [
       "Transcribing:   0%|          | 0/1 [00:00<?, ?it/s]"
      ]
     },
     "metadata": {},
     "output_type": "display_data"
    },
    {
     "data": {
      "text/plain": [
       "['मां ने अपनी डायरी में लिखा था मेरी आंखों और सपनों के बीच हमेशा से यह दुनिया खड़ी रही है']"
      ]
     },
     "execution_count": 87,
     "metadata": {},
     "output_type": "execute_result"
    }
   ],
   "source": [
    "transcribe('/home/harveen/evaluations/taarini_without_numbers/244-F-29_033.wav')"
   ]
  },
  {
   "cell_type": "code",
   "execution_count": 89,
   "id": "09ee21c6",
   "metadata": {},
   "outputs": [
    {
     "data": {
      "application/vnd.jupyter.widget-view+json": {
       "model_id": "06253edb068a4993829616f30608c7b3",
       "version_major": 2,
       "version_minor": 0
      },
      "text/plain": [
       "Transcribing:   0%|          | 0/1 [00:00<?, ?it/s]"
      ]
     },
     "metadata": {},
     "output_type": "display_data"
    },
    {
     "data": {
      "text/plain": [
       "['मा ने अपनी डायरी में लिखा था मेरी आँखों और सपनों के बीच हमेशा से यह दुनिया खड़ी रही हैं']"
      ]
     },
     "execution_count": 89,
     "metadata": {},
     "output_type": "execute_result"
    }
   ],
   "source": [
    "transcribe_with_lm(['/home/harveen/evaluations/taarini_without_numbers/244-F-29_033.wav'])"
   ]
  }
 ],
 "metadata": {
  "kernelspec": {
   "display_name": "Python 3 (ipykernel)",
   "language": "python",
   "name": "python3"
  },
  "language_info": {
   "codemirror_mode": {
    "name": "ipython",
    "version": 3
   },
   "file_extension": ".py",
   "mimetype": "text/x-python",
   "name": "python",
   "nbconvert_exporter": "python",
   "pygments_lexer": "ipython3",
   "version": "3.8.13"
  }
 },
 "nbformat": 4,
 "nbformat_minor": 5
}
